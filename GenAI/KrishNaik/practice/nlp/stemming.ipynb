{
 "cells": [
  {
   "cell_type": "code",
   "execution_count": 27,
   "id": "135bea99",
   "metadata": {},
   "outputs": [],
   "source": [
    "words=[\"ate\",\"eating\",\"eats\",\"eaten\",\"writing\",\"writes\",\"programming\",\"programs\",\"history\",\"finally\",\"finalized\",\"go\",\"went\",\"gone\",\"fairly\",\"sportingly\"]"
   ]
  },
  {
   "cell_type": "code",
   "execution_count": 28,
   "id": "0a93d67d",
   "metadata": {},
   "outputs": [],
   "source": [
    "## PorterStemmer"
   ]
  },
  {
   "cell_type": "code",
   "execution_count": 29,
   "id": "b877b71d",
   "metadata": {},
   "outputs": [],
   "source": [
    "from nltk.stem import PorterStemmer"
   ]
  },
  {
   "cell_type": "code",
   "execution_count": 30,
   "id": "30f3fb38",
   "metadata": {},
   "outputs": [],
   "source": [
    "stemming = PorterStemmer()"
   ]
  },
  {
   "cell_type": "code",
   "execution_count": 31,
   "id": "321141cf",
   "metadata": {},
   "outputs": [
    {
     "name": "stdout",
     "output_type": "stream",
     "text": [
      "ate -------> ate\n",
      "eating -------> eat\n",
      "eats -------> eat\n",
      "eaten -------> eaten\n",
      "writing -------> write\n",
      "writes -------> write\n",
      "programming -------> program\n",
      "programs -------> program\n",
      "history -------> histori\n",
      "finally -------> final\n",
      "finalized -------> final\n",
      "go -------> go\n",
      "went -------> went\n",
      "gone -------> gone\n",
      "fairly -------> fairli\n",
      "sportingly -------> sportingli\n"
     ]
    }
   ],
   "source": [
    "for word in words:\n",
    "    print(word + \" -------> \" + stemming.stem(word))"
   ]
  },
  {
   "cell_type": "code",
   "execution_count": 10,
   "id": "27871428",
   "metadata": {},
   "outputs": [],
   "source": [
    "## RegexpStemmer"
   ]
  },
  {
   "cell_type": "code",
   "execution_count": 32,
   "id": "b7479bb3",
   "metadata": {},
   "outputs": [],
   "source": [
    "from nltk.stem import RegexpStemmer"
   ]
  },
  {
   "cell_type": "code",
   "execution_count": 33,
   "id": "cfc9f870",
   "metadata": {},
   "outputs": [],
   "source": [
    "stemming = RegexpStemmer('ing$|s$|e$|able$', min=4)"
   ]
  },
  {
   "cell_type": "code",
   "execution_count": 34,
   "id": "9d127e17",
   "metadata": {},
   "outputs": [
    {
     "name": "stdout",
     "output_type": "stream",
     "text": [
      "ate -------> ate\n",
      "eating -------> eat\n",
      "eats -------> eat\n",
      "eaten -------> eaten\n",
      "writing -------> writ\n",
      "writes -------> write\n",
      "programming -------> programm\n",
      "programs -------> program\n",
      "history -------> history\n",
      "finally -------> finally\n",
      "finalized -------> finalized\n",
      "go -------> go\n",
      "went -------> went\n",
      "gone -------> gon\n",
      "fairly -------> fairly\n",
      "sportingly -------> sportingly\n"
     ]
    }
   ],
   "source": [
    "for word in words:\n",
    "    print(word + \" -------> \" + stemming.stem(word))"
   ]
  },
  {
   "cell_type": "code",
   "execution_count": 16,
   "id": "6e88a63c",
   "metadata": {},
   "outputs": [],
   "source": [
    "## SnowballStemmer"
   ]
  },
  {
   "cell_type": "code",
   "execution_count": 36,
   "id": "bdf10edc",
   "metadata": {},
   "outputs": [],
   "source": [
    "from nltk.stem import SnowballStemmer"
   ]
  },
  {
   "cell_type": "code",
   "execution_count": 37,
   "id": "ed09e0ab",
   "metadata": {},
   "outputs": [],
   "source": [
    "stemming = SnowballStemmer(language='english')"
   ]
  },
  {
   "cell_type": "code",
   "execution_count": 38,
   "id": "729f4652",
   "metadata": {},
   "outputs": [
    {
     "name": "stdout",
     "output_type": "stream",
     "text": [
      "ate -------> ate\n",
      "eating -------> eat\n",
      "eats -------> eat\n",
      "eaten -------> eaten\n",
      "writing -------> write\n",
      "writes -------> write\n",
      "programming -------> program\n",
      "programs -------> program\n",
      "history -------> histori\n",
      "finally -------> final\n",
      "finalized -------> final\n",
      "go -------> go\n",
      "went -------> went\n",
      "gone -------> gone\n",
      "fairly -------> fair\n",
      "sportingly -------> sport\n"
     ]
    }
   ],
   "source": [
    "for word in words:\n",
    "    print(word + \" -------> \" + stemming.stem(word))"
   ]
  },
  {
   "cell_type": "code",
   "execution_count": null,
   "id": "9ba04ae0",
   "metadata": {},
   "outputs": [],
   "source": []
  }
 ],
 "metadata": {
  "kernelspec": {
   "display_name": "Python 3 (ipykernel)",
   "language": "python",
   "name": "python3"
  },
  "language_info": {
   "codemirror_mode": {
    "name": "ipython",
    "version": 3
   },
   "file_extension": ".py",
   "mimetype": "text/x-python",
   "name": "python",
   "nbconvert_exporter": "python",
   "pygments_lexer": "ipython3",
   "version": "3.9.12"
  }
 },
 "nbformat": 4,
 "nbformat_minor": 5
}
