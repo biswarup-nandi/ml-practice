{
 "cells": [
  {
   "cell_type": "code",
   "execution_count": 1,
   "id": "bc356a55",
   "metadata": {},
   "outputs": [
    {
     "name": "stdout",
     "output_type": "stream",
     "text": [
      "Defaulting to user installation because normal site-packages is not writeable\n",
      "Requirement already satisfied: nltk in c:\\programdata\\anaconda3\\lib\\site-packages (3.7)\n",
      "Requirement already satisfied: tqdm in c:\\programdata\\anaconda3\\lib\\site-packages (from nltk) (4.64.0)\n",
      "Requirement already satisfied: click in c:\\programdata\\anaconda3\\lib\\site-packages (from nltk) (8.0.4)\n",
      "Requirement already satisfied: regex>=2021.8.3 in c:\\programdata\\anaconda3\\lib\\site-packages (from nltk) (2022.3.15)\n",
      "Requirement already satisfied: joblib in c:\\programdata\\anaconda3\\lib\\site-packages (from nltk) (1.1.0)\n",
      "Requirement already satisfied: colorama in c:\\programdata\\anaconda3\\lib\\site-packages (from click->nltk) (0.4.4)\n"
     ]
    }
   ],
   "source": [
    "!pip install nltk"
   ]
  },
  {
   "cell_type": "code",
   "execution_count": 2,
   "id": "2c4cb2c5",
   "metadata": {},
   "outputs": [],
   "source": [
    "corpus=\"\"\"Dear Sir,I visited your clinic today (prescription attached). As per your suggestion, I went to Varad for the USG, but the center was closed. I tried calling them twice, but there was no response. Wow! Since I live in Aundh, I found a highly reputed Sonography Center nearby and have attached the USG report for your reference.\"\"\""
   ]
  },
  {
   "cell_type": "code",
   "execution_count": 3,
   "id": "d0bfb83c",
   "metadata": {},
   "outputs": [
    {
     "name": "stdout",
     "output_type": "stream",
     "text": [
      "Dear Sir,I visited your clinic today (prescription attached). As per your suggestion, I went to Varad for the USG, but the center was closed. I tried calling them twice, but there was no response. Wow! Since I live in Aundh, I found a highly reputed Sonography Center nearby and have attached the USG report for your reference.\n"
     ]
    }
   ],
   "source": [
    "print(corpus)"
   ]
  },
  {
   "cell_type": "code",
   "execution_count": 4,
   "id": "3217c825",
   "metadata": {},
   "outputs": [
    {
     "name": "stderr",
     "output_type": "stream",
     "text": [
      "[nltk_data] Downloading package punkt to\n",
      "[nltk_data]     C:\\Users\\biswa\\AppData\\Roaming\\nltk_data...\n",
      "[nltk_data]   Package punkt is already up-to-date!\n"
     ]
    },
    {
     "data": {
      "text/plain": [
       "True"
      ]
     },
     "execution_count": 4,
     "metadata": {},
     "output_type": "execute_result"
    }
   ],
   "source": [
    "import nltk\n",
    "nltk.download('punkt')"
   ]
  },
  {
   "cell_type": "code",
   "execution_count": 5,
   "id": "3bbb097b",
   "metadata": {},
   "outputs": [],
   "source": [
    "# Tokenization\n",
    "## Paragraphs --> Sentence\n",
    "\n",
    "from nltk.tokenize import sent_tokenize"
   ]
  },
  {
   "cell_type": "code",
   "execution_count": 6,
   "id": "f7bdd708",
   "metadata": {},
   "outputs": [],
   "source": [
    "documents = sent_tokenize(corpus)"
   ]
  },
  {
   "cell_type": "code",
   "execution_count": 7,
   "id": "0d5a9718",
   "metadata": {},
   "outputs": [
    {
     "data": {
      "text/plain": [
       "list"
      ]
     },
     "execution_count": 7,
     "metadata": {},
     "output_type": "execute_result"
    }
   ],
   "source": [
    "type(documents)"
   ]
  },
  {
   "cell_type": "code",
   "execution_count": 8,
   "id": "47220fc6",
   "metadata": {},
   "outputs": [],
   "source": [
    "# Tokenization\n",
    "## Paragraphs --> Words\n",
    "\n",
    "from nltk.tokenize import word_tokenize"
   ]
  },
  {
   "cell_type": "code",
   "execution_count": 9,
   "id": "5755a815",
   "metadata": {},
   "outputs": [
    {
     "data": {
      "text/plain": [
       "['Dear',\n",
       " 'Sir',\n",
       " ',',\n",
       " 'I',\n",
       " 'visited',\n",
       " 'your',\n",
       " 'clinic',\n",
       " 'today',\n",
       " '(',\n",
       " 'prescription',\n",
       " 'attached',\n",
       " ')',\n",
       " '.',\n",
       " 'As',\n",
       " 'per',\n",
       " 'your',\n",
       " 'suggestion',\n",
       " ',',\n",
       " 'I',\n",
       " 'went',\n",
       " 'to',\n",
       " 'Varad',\n",
       " 'for',\n",
       " 'the',\n",
       " 'USG',\n",
       " ',',\n",
       " 'but',\n",
       " 'the',\n",
       " 'center',\n",
       " 'was',\n",
       " 'closed',\n",
       " '.',\n",
       " 'I',\n",
       " 'tried',\n",
       " 'calling',\n",
       " 'them',\n",
       " 'twice',\n",
       " ',',\n",
       " 'but',\n",
       " 'there',\n",
       " 'was',\n",
       " 'no',\n",
       " 'response',\n",
       " '.',\n",
       " 'Wow',\n",
       " '!',\n",
       " 'Since',\n",
       " 'I',\n",
       " 'live',\n",
       " 'in',\n",
       " 'Aundh',\n",
       " ',',\n",
       " 'I',\n",
       " 'found',\n",
       " 'a',\n",
       " 'highly',\n",
       " 'reputed',\n",
       " 'Sonography',\n",
       " 'Center',\n",
       " 'nearby',\n",
       " 'and',\n",
       " 'have',\n",
       " 'attached',\n",
       " 'the',\n",
       " 'USG',\n",
       " 'report',\n",
       " 'for',\n",
       " 'your',\n",
       " 'reference',\n",
       " '.']"
      ]
     },
     "execution_count": 9,
     "metadata": {},
     "output_type": "execute_result"
    }
   ],
   "source": [
    "word_tokenize(corpus)"
   ]
  },
  {
   "cell_type": "code",
   "execution_count": 10,
   "id": "33ead2ff",
   "metadata": {},
   "outputs": [],
   "source": [
    "# Tokenization\n",
    "## Sentences --> Words\n",
    "\n",
    "from nltk.tokenize import wordpunct_tokenize"
   ]
  },
  {
   "cell_type": "code",
   "execution_count": 11,
   "id": "6a1c26b1",
   "metadata": {},
   "outputs": [
    {
     "name": "stdout",
     "output_type": "stream",
     "text": [
      "['Dear', 'Sir', ',', 'I', 'visited', 'your', 'clinic', 'today', '(', 'prescription', 'attached', ')', '.']\n",
      "['Dear', 'Sir', ',', 'I', 'visited', 'your', 'clinic', 'today', '(', 'prescription', 'attached', ').']\n",
      "=====================================================\n",
      "['As', 'per', 'your', 'suggestion', ',', 'I', 'went', 'to', 'Varad', 'for', 'the', 'USG', ',', 'but', 'the', 'center', 'was', 'closed', '.']\n",
      "['As', 'per', 'your', 'suggestion', ',', 'I', 'went', 'to', 'Varad', 'for', 'the', 'USG', ',', 'but', 'the', 'center', 'was', 'closed', '.']\n",
      "=====================================================\n",
      "['I', 'tried', 'calling', 'them', 'twice', ',', 'but', 'there', 'was', 'no', 'response', '.']\n",
      "['I', 'tried', 'calling', 'them', 'twice', ',', 'but', 'there', 'was', 'no', 'response', '.']\n",
      "=====================================================\n",
      "['Wow', '!']\n",
      "['Wow', '!']\n",
      "=====================================================\n",
      "['Since', 'I', 'live', 'in', 'Aundh', ',', 'I', 'found', 'a', 'highly', 'reputed', 'Sonography', 'Center', 'nearby', 'and', 'have', 'attached', 'the', 'USG', 'report', 'for', 'your', 'reference', '.']\n",
      "['Since', 'I', 'live', 'in', 'Aundh', ',', 'I', 'found', 'a', 'highly', 'reputed', 'Sonography', 'Center', 'nearby', 'and', 'have', 'attached', 'the', 'USG', 'report', 'for', 'your', 'reference', '.']\n",
      "=====================================================\n"
     ]
    }
   ],
   "source": [
    "for sentence in documents:\n",
    "    w = word_tokenize(sentence)\n",
    "    print(w)\n",
    "    wp = wordpunct_tokenize(sentence)\n",
    "    print(wp)\n",
    "    print(\"=====================================================\")"
   ]
  },
  {
   "cell_type": "code",
   "execution_count": 12,
   "id": "bf872509",
   "metadata": {},
   "outputs": [],
   "source": [
    "from nltk.tokenize import TreebankWordTokenizer\n",
    "treeBankTokenizer = TreebankWordTokenizer()"
   ]
  },
  {
   "cell_type": "code",
   "execution_count": 18,
   "id": "4b2e4eaf",
   "metadata": {},
   "outputs": [
    {
     "name": "stdout",
     "output_type": "stream",
     "text": [
      "['Dear', 'Sir', ',', 'I', 'visited', 'your', 'clinic', 'today', '(', 'prescription', 'attached', ')', '.', 'As', 'per', 'your', 'suggestion', ',', 'I', 'went', 'to', 'Varad', 'for', 'the', 'USG', ',', 'but', 'the', 'center', 'was', 'closed.', 'I', 'tried', 'calling', 'them', 'twice', ',', 'but', 'there', 'was', 'no', 'response.', 'Wow', '!', 'Since', 'I', 'live', 'in', 'Aundh', ',', 'I', 'found', 'a', 'highly', 'reputed', 'Sonography', 'Center', 'nearby', 'and', 'have', 'attached', 'the', 'USG', 'report', 'for', 'your', 'reference', '.']\n"
     ]
    }
   ],
   "source": [
    "tbt = treeBankTokenizer.tokenize(corpus)\n",
    "print(tbt)"
   ]
  },
  {
   "cell_type": "code",
   "execution_count": null,
   "id": "a9c97e9e",
   "metadata": {},
   "outputs": [],
   "source": []
  },
  {
   "cell_type": "code",
   "execution_count": null,
   "id": "604f4893",
   "metadata": {},
   "outputs": [],
   "source": []
  }
 ],
 "metadata": {
  "kernelspec": {
   "display_name": "Python 3 (ipykernel)",
   "language": "python",
   "name": "python3"
  },
  "language_info": {
   "codemirror_mode": {
    "name": "ipython",
    "version": 3
   },
   "file_extension": ".py",
   "mimetype": "text/x-python",
   "name": "python",
   "nbconvert_exporter": "python",
   "pygments_lexer": "ipython3",
   "version": "3.9.12"
  }
 },
 "nbformat": 4,
 "nbformat_minor": 5
}
